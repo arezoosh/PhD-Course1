{
  "nbformat": 4,
  "nbformat_minor": 0,
  "metadata": {
    "colab": {
      "name": "Untitled7.ipynb",
      "provenance": [],
      "include_colab_link": true
    },
    "kernelspec": {
      "name": "python3",
      "display_name": "Python 3"
    }
  },
  "cells": [
    {
      "cell_type": "markdown",
      "metadata": {
        "id": "view-in-github",
        "colab_type": "text"
      },
      "source": [
        "<a href=\"https://colab.research.google.com/github/arezoosh/PhD-Course1/blob/master/trumpfake.ipynb\" target=\"_parent\"><img src=\"https://colab.research.google.com/assets/colab-badge.svg\" alt=\"Open In Colab\"/></a>"
      ]
    },
    {
      "cell_type": "code",
      "metadata": {
        "id": "TuUEUyHvWE5L",
        "colab_type": "code",
        "colab": {}
      },
      "source": [
        "import pandas as pd\n",
        "import numpy as np\n",
        "from sklearn.model_selection import train_test_split"
      ],
      "execution_count": 0,
      "outputs": []
    },
    {
      "cell_type": "code",
      "metadata": {
        "id": "uBhHjtKvWd8c",
        "colab_type": "code",
        "colab": {}
      },
      "source": [
        "data = pd.read_csv('https://raw.githubusercontent.com/DeepLearnI/trump_tweet_classifier/master/code/tweet_labels.csv')"
      ],
      "execution_count": 0,
      "outputs": []
    },
    {
      "cell_type": "code",
      "metadata": {
        "id": "fHybHjiDWgDj",
        "colab_type": "code",
        "colab": {
          "base_uri": "https://localhost:8080/",
          "height": 121
        },
        "outputId": "8b76e39c-c1a2-4682-ec28-aa98653184f0"
      },
      "source": [
        "data.tweet.head()"
      ],
      "execution_count": 20,
      "outputs": [
        {
          "output_type": "execute_result",
          "data": {
            "text/plain": [
              "0    To every one of the HEROES we recognized today...\n",
              "1    We have been serving as policemen in Afghanist...\n",
              "2    ...the Economy, where there is NO Recession, m...\n",
              "3    ...the look of turmoil in the White House, of ...\n",
              "4    A lot of Fake News is being reported that I ov...\n",
              "Name: tweet, dtype: object"
            ]
          },
          "metadata": {
            "tags": []
          },
          "execution_count": 20
        }
      ]
    },
    {
      "cell_type": "code",
      "metadata": {
        "id": "aLHmDqH4ba-0",
        "colab_type": "code",
        "colab": {
          "base_uri": "https://localhost:8080/",
          "height": 139
        },
        "outputId": "592fbb79-92c8-4895-df31-d4c1affc69da"
      },
      "source": [
        "data.info()"
      ],
      "execution_count": 6,
      "outputs": [
        {
          "output_type": "stream",
          "text": [
            "<class 'pandas.core.frame.DataFrame'>\n",
            "RangeIndex: 15348 entries, 0 to 15347\n",
            "Data columns (total 2 columns):\n",
            "tweet     15348 non-null object\n",
            "labels    15348 non-null bool\n",
            "dtypes: bool(1), object(1)\n",
            "memory usage: 135.0+ KB\n"
          ],
          "name": "stdout"
        }
      ]
    },
    {
      "cell_type": "code",
      "metadata": {
        "id": "piLc7t8IcKyp",
        "colab_type": "code",
        "colab": {}
      },
      "source": [
        "X = data.loc[:,'tweet']\n",
        "Y = data.loc[:,'labels']"
      ],
      "execution_count": 0,
      "outputs": []
    },
    {
      "cell_type": "code",
      "metadata": {
        "id": "OBqat0f1coSC",
        "colab_type": "code",
        "colab": {
          "base_uri": "https://localhost:8080/",
          "height": 121
        },
        "outputId": "ff83a3ef-19ec-4510-c6da-32cf8e72ee96"
      },
      "source": [
        "X.head()\n",
        "Y.head()"
      ],
      "execution_count": 12,
      "outputs": [
        {
          "output_type": "execute_result",
          "data": {
            "text/plain": [
              "0    True\n",
              "1    True\n",
              "2    True\n",
              "3    True\n",
              "4    True\n",
              "Name: labels, dtype: bool"
            ]
          },
          "metadata": {
            "tags": []
          },
          "execution_count": 12
        }
      ]
    },
    {
      "cell_type": "code",
      "metadata": {
        "id": "uUela6_IdZGE",
        "colab_type": "code",
        "colab": {}
      },
      "source": [
        "from sklearn.preprocessing import LabelEncoder\n",
        "encoder = LabelEncoder()"
      ],
      "execution_count": 0,
      "outputs": []
    },
    {
      "cell_type": "code",
      "metadata": {
        "id": "iH7EeZevdds_",
        "colab_type": "code",
        "colab": {}
      },
      "source": [
        "y_enc = encoder.fit_transform(Y)"
      ],
      "execution_count": 0,
      "outputs": []
    },
    {
      "cell_type": "code",
      "metadata": {
        "id": "qM1AZ877YhIi",
        "colab_type": "code",
        "colab": {}
      },
      "source": [
        " X_train, X_test, y_train, y_test = train_test_split( X, y_enc, test_size=0.2, random_state=42)"
      ],
      "execution_count": 0,
      "outputs": []
    },
    {
      "cell_type": "code",
      "metadata": {
        "id": "TMmcmuzQe0f8",
        "colab_type": "code",
        "colab": {
          "base_uri": "https://localhost:8080/",
          "height": 121
        },
        "outputId": "91dd87fb-681a-4f43-fa76-4c969bd61afa"
      },
      "source": [
        "X_train.head()"
      ],
      "execution_count": 23,
      "outputs": [
        {
          "output_type": "execute_result",
          "data": {
            "text/plain": [
              "7573     We are going to defend our industry & create a...\n",
              "573      What the Market wanted to hear from Jay Powell...\n",
              "6177     Bernie Sanders supporters have every right to ...\n",
              "14844    .@SteveHilton is on @FoxNews, on the air. He i...\n",
              "14350    President @realDonaldTrump has signed (prohibi...\n",
              "Name: tweet, dtype: object"
            ]
          },
          "metadata": {
            "tags": []
          },
          "execution_count": 23
        }
      ]
    },
    {
      "cell_type": "code",
      "metadata": {
        "id": "UGB4KteQfemO",
        "colab_type": "code",
        "colab": {}
      },
      "source": [
        "import re\n",
        "\n",
        "pattern = re.compile('<br /><br />')"
      ],
      "execution_count": 0,
      "outputs": []
    },
    {
      "cell_type": "code",
      "metadata": {
        "id": "JfUIwKbHePzp",
        "colab_type": "code",
        "colab": {}
      },
      "source": [
        "#not sure this part is necassary\n",
        "train_df = X_train.apply(lambda text: pattern.subn(' ', text)[0])\n",
        "test_df = X_test.apply(lambda text: pattern.subn(' ', text)[0])"
      ],
      "execution_count": 0,
      "outputs": []
    },
    {
      "cell_type": "code",
      "metadata": {
        "id": "_h1hOIMwfmrl",
        "colab_type": "code",
        "colab": {
          "base_uri": "https://localhost:8080/",
          "height": 121
        },
        "outputId": "a1343a68-8d02-4333-e7fa-9f2cf4340372"
      },
      "source": [
        "train_df.head()"
      ],
      "execution_count": 29,
      "outputs": [
        {
          "output_type": "execute_result",
          "data": {
            "text/plain": [
              "7573     We are going to defend our industry & create a...\n",
              "573      What the Market wanted to hear from Jay Powell...\n",
              "6177     Bernie Sanders supporters have every right to ...\n",
              "14844    .@SteveHilton is on @FoxNews, on the air. He i...\n",
              "14350    President @realDonaldTrump has signed (prohibi...\n",
              "Name: tweet, dtype: object"
            ]
          },
          "metadata": {
            "tags": []
          },
          "execution_count": 29
        }
      ]
    },
    {
      "cell_type": "code",
      "metadata": {
        "id": "Zho6OlxogGGq",
        "colab_type": "code",
        "colab": {
          "base_uri": "https://localhost:8080/",
          "height": 87
        },
        "outputId": "81314815-c4b1-4fb7-cb38-093b18de5942"
      },
      "source": [
        "import nltk\n",
        "nltk.download('punkt')\n",
        "nltk.download('stopwords')\n",
        "from nltk.tokenize import word_tokenize"
      ],
      "execution_count": 30,
      "outputs": [
        {
          "output_type": "stream",
          "text": [
            "[nltk_data] Downloading package punkt to /root/nltk_data...\n",
            "[nltk_data]   Unzipping tokenizers/punkt.zip.\n",
            "[nltk_data] Downloading package stopwords to /root/nltk_data...\n",
            "[nltk_data]   Unzipping corpora/stopwords.zip.\n"
          ],
          "name": "stdout"
        }
      ]
    },
    {
      "cell_type": "code",
      "metadata": {
        "id": "LM5580lkgKf9",
        "colab_type": "code",
        "colab": {
          "base_uri": "https://localhost:8080/",
          "height": 35
        },
        "outputId": "e094ca4f-698b-4781-a528-44fe11a966fd"
      },
      "source": [
        "!pip install -qq -U gensim"
      ],
      "execution_count": 31,
      "outputs": [
        {
          "output_type": "stream",
          "text": [
            "\u001b[K     |████████████████████████████████| 24.2MB 98kB/s \n",
            "\u001b[?25h"
          ],
          "name": "stdout"
        }
      ]
    },
    {
      "cell_type": "code",
      "metadata": {
        "id": "3KTVJ79agNO3",
        "colab_type": "code",
        "colab": {}
      },
      "source": [
        "from gensim.corpora.dictionary import Dictionary"
      ],
      "execution_count": 0,
      "outputs": []
    },
    {
      "cell_type": "code",
      "metadata": {
        "id": "4w8HEqKSgRyR",
        "colab_type": "code",
        "colab": {}
      },
      "source": [
        "from gensim.models.tfidfmodel import TfidfModel"
      ],
      "execution_count": 0,
      "outputs": []
    },
    {
      "cell_type": "code",
      "metadata": {
        "id": "kZ2JQY7rgVKD",
        "colab_type": "code",
        "colab": {}
      },
      "source": [
        "from gensim.models.lsimodel import LsiModel"
      ],
      "execution_count": 0,
      "outputs": []
    },
    {
      "cell_type": "code",
      "metadata": {
        "id": "_Eeyms7ygYkV",
        "colab_type": "code",
        "colab": {}
      },
      "source": [
        "from nltk.corpus import stopwords\n",
        "stop_words = set(stopwords.words('english'))"
      ],
      "execution_count": 0,
      "outputs": []
    },
    {
      "cell_type": "code",
      "metadata": {
        "id": "EDMWd9i8gdk2",
        "colab_type": "code",
        "colab": {}
      },
      "source": [
        "# Tokenize our texts and remove stopwords, also kick out numbers, lower everything\n",
        "\n",
        "train_tokens = train_df.map(lambda t: [tok.lower() for tok in word_tokenize(t) if tok not in stop_words and tok.isalpha()])"
      ],
      "execution_count": 0,
      "outputs": []
    },
    {
      "cell_type": "code",
      "metadata": {
        "id": "a3OEjiXygxKH",
        "colab_type": "code",
        "colab": {}
      },
      "source": [
        "test_tokens = test_df.map(lambda t: [tok.lower() for tok in word_tokenize(t) if tok not in stop_words and tok.isalpha()])"
      ],
      "execution_count": 0,
      "outputs": []
    },
    {
      "cell_type": "code",
      "metadata": {
        "id": "zdqWYmveg9YT",
        "colab_type": "code",
        "colab": {}
      },
      "source": [
        "dictionary = Dictionary(train_tokens)"
      ],
      "execution_count": 0,
      "outputs": []
    },
    {
      "cell_type": "code",
      "metadata": {
        "id": "4fncUTCTiBcW",
        "colab_type": "code",
        "colab": {
          "base_uri": "https://localhost:8080/",
          "height": 35
        },
        "outputId": "f39246b4-4ff2-4156-8b8d-b6300f3bc7c6"
      },
      "source": [
        "print(dictionary)\n"
      ],
      "execution_count": 48,
      "outputs": [
        {
          "output_type": "stream",
          "text": [
            "Dictionary(2697 unique tokens: ['americafirst', 'american', 'create', 'defend', 'field']...)\n"
          ],
          "name": "stdout"
        }
      ]
    },
    {
      "cell_type": "code",
      "metadata": {
        "id": "pMzb0p0JhCEr",
        "colab_type": "code",
        "colab": {
          "base_uri": "https://localhost:8080/",
          "height": 225
        },
        "outputId": "1445e3a0-c69f-4b07-d3d9-010ef1830377"
      },
      "source": [
        "dictionary.filter_extremes(no_below = 10, no_above=0.4)\n",
        "train_tokens"
      ],
      "execution_count": 50,
      "outputs": [
        {
          "output_type": "execute_result",
          "data": {
            "text/plain": [
              "7573     [we, going, defend, industry, create, level, p...\n",
              "573      [what, market, wanted, hear, jay, powell, fede...\n",
              "6177     [bernie, sanders, supporters, every, right, ap...\n",
              "14844    [stevehilton, foxnews, air, he, fine, guest, g...\n",
              "14350    [president, realdonaldtrump, signed, prohibito...\n",
              "                               ...                        \n",
              "5191     [great, meeting, prime, minister, abe, japan, ...\n",
              "13418                                       [show, thread]\n",
              "5390                           [thank, hosting, magahttps]\n",
              "860                    [mueller, s, partisan, witch, hunt]\n",
              "7270     [icymi, announcement, air, traffic, control, i...\n",
              "Name: tweet, Length: 12278, dtype: object"
            ]
          },
          "metadata": {
            "tags": []
          },
          "execution_count": 50
        }
      ]
    },
    {
      "cell_type": "code",
      "metadata": {
        "id": "0_Z0WsD0jP7H",
        "colab_type": "code",
        "colab": {}
      },
      "source": [
        "train_corpus = [dictionary.doc2bow(doc) for doc in train_tokens]\n",
        "test_corpus = [dictionary.doc2bow(doc) for doc in test_tokens]\n"
      ],
      "execution_count": 0,
      "outputs": []
    },
    {
      "cell_type": "code",
      "metadata": {
        "id": "eS3kR35Cj2oB",
        "colab_type": "code",
        "colab": {}
      },
      "source": [
        "from gensim.matutils import corpus2csc, corpus2dense"
      ],
      "execution_count": 0,
      "outputs": []
    },
    {
      "cell_type": "code",
      "metadata": {
        "id": "A3nbXw_Lj89n",
        "colab_type": "code",
        "colab": {}
      },
      "source": [
        "\n",
        "X_train = corpus2csc(train_corpus)\n",
        "X_test = corpus2csc(test_corpus)"
      ],
      "execution_count": 0,
      "outputs": []
    },
    {
      "cell_type": "code",
      "metadata": {
        "id": "Hu4JxrFfkDR_",
        "colab_type": "code",
        "colab": {
          "base_uri": "https://localhost:8080/",
          "height": 89
        },
        "outputId": "7a0b41da-24b8-4731-d458-c44f17c867cb"
      },
      "source": [
        "from sklearn.linear_model import LogisticRegression\n",
        "\n",
        "model = LogisticRegression()\n",
        "\n",
        "model.fit(X_train.T, y_train)\n",
        "\n",
        "model.score(X_test.T, y_test)"
      ],
      "execution_count": 56,
      "outputs": [
        {
          "output_type": "stream",
          "text": [
            "/usr/local/lib/python3.6/dist-packages/sklearn/linear_model/logistic.py:432: FutureWarning: Default solver will be changed to 'lbfgs' in 0.22. Specify a solver to silence this warning.\n",
            "  FutureWarning)\n"
          ],
          "name": "stderr"
        },
        {
          "output_type": "execute_result",
          "data": {
            "text/plain": [
              "0.7055374592833876"
            ]
          },
          "metadata": {
            "tags": []
          },
          "execution_count": 56
        }
      ]
    },
    {
      "cell_type": "code",
      "metadata": {
        "id": "A316FnTklKTT",
        "colab_type": "code",
        "colab": {}
      },
      "source": [
        "tfidf = TfidfModel(train_corpus)"
      ],
      "execution_count": 0,
      "outputs": []
    },
    {
      "cell_type": "code",
      "metadata": {
        "id": "7QkUtwjLlNjA",
        "colab_type": "code",
        "colab": {}
      },
      "source": [
        "train_corpus_tfidf = tfidf[train_corpus]\n",
        "test_corpus_tfidf = tfidf[test_corpus]"
      ],
      "execution_count": 0,
      "outputs": []
    },
    {
      "cell_type": "code",
      "metadata": {
        "id": "E9KGi1cTlQ6W",
        "colab_type": "code",
        "colab": {}
      },
      "source": [
        "X_train = corpus2csc(train_corpus_tfidf)\n",
        "X_test = corpus2csc(test_corpus_tfidf)"
      ],
      "execution_count": 0,
      "outputs": []
    },
    {
      "cell_type": "code",
      "metadata": {
        "id": "S9piOHBIlWyK",
        "colab_type": "code",
        "colab": {
          "base_uri": "https://localhost:8080/",
          "height": 89
        },
        "outputId": "8927797c-d7a0-4e68-c81a-1d9bafd08d13"
      },
      "source": [
        "from sklearn.linear_model import LogisticRegression\n",
        "\n",
        "model = LogisticRegression()\n",
        "\n",
        "model.fit(X_train.T, y_train)\n",
        "\n",
        "model.score(X_test.T, y_test)"
      ],
      "execution_count": 63,
      "outputs": [
        {
          "output_type": "stream",
          "text": [
            "/usr/local/lib/python3.6/dist-packages/sklearn/linear_model/logistic.py:432: FutureWarning: Default solver will be changed to 'lbfgs' in 0.22. Specify a solver to silence this warning.\n",
            "  FutureWarning)\n"
          ],
          "name": "stderr"
        },
        {
          "output_type": "execute_result",
          "data": {
            "text/plain": [
              "0.709771986970684"
            ]
          },
          "metadata": {
            "tags": []
          },
          "execution_count": 63
        }
      ]
    },
    {
      "cell_type": "code",
      "metadata": {
        "id": "3pfhjXcYlkVZ",
        "colab_type": "code",
        "colab": {}
      },
      "source": [
        "from gensim.models.lsimodel import LsiModel"
      ],
      "execution_count": 0,
      "outputs": []
    },
    {
      "cell_type": "code",
      "metadata": {
        "id": "BtobQN-mlpSx",
        "colab_type": "code",
        "colab": {}
      },
      "source": [
        "# Training the LSI model\n",
        "model_lsi = LsiModel(train_corpus_tfidf, num_topics = 300, id2word=dictionary)"
      ],
      "execution_count": 0,
      "outputs": []
    },
    {
      "cell_type": "code",
      "metadata": {
        "id": "kNWiJjP0lt1b",
        "colab_type": "code",
        "colab": {}
      },
      "source": [
        "# Generating the corpus train & test\n",
        "\n",
        "train_corpus_lsi = model_lsi[train_corpus_tfidf]\n",
        "test_corpus_lsi = model_lsi[test_corpus_tfidf]"
      ],
      "execution_count": 0,
      "outputs": []
    },
    {
      "cell_type": "code",
      "metadata": {
        "id": "p7kBc6TmlxZo",
        "colab_type": "code",
        "colab": {}
      },
      "source": [
        "# turn into matrix\n",
        "train_lsi_corpus = corpus2dense(train_corpus_lsi, 300 )\n",
        "\n",
        "test_lsi_corpus = corpus2dense(test_corpus_lsi, 300)"
      ],
      "execution_count": 0,
      "outputs": []
    },
    {
      "cell_type": "code",
      "metadata": {
        "id": "hTqrq1dOl0zd",
        "colab_type": "code",
        "colab": {
          "base_uri": "https://localhost:8080/",
          "height": 89
        },
        "outputId": "6c9d8daf-a187-4bae-8dbe-7b9f8cf1a5cd"
      },
      "source": [
        "from sklearn.linear_model import LogisticRegression\n",
        "\n",
        "model = LogisticRegression()\n",
        "\n",
        "model.fit(train_lsi_corpus.T, y_train)\n",
        "\n",
        "model.score(test_lsi_corpus.T, y_test)"
      ],
      "execution_count": 68,
      "outputs": [
        {
          "output_type": "stream",
          "text": [
            "/usr/local/lib/python3.6/dist-packages/sklearn/linear_model/logistic.py:432: FutureWarning: Default solver will be changed to 'lbfgs' in 0.22. Specify a solver to silence this warning.\n",
            "  FutureWarning)\n"
          ],
          "name": "stderr"
        },
        {
          "output_type": "execute_result",
          "data": {
            "text/plain": [
              "0.6716612377850163"
            ]
          },
          "metadata": {
            "tags": []
          },
          "execution_count": 68
        }
      ]
    },
    {
      "cell_type": "code",
      "metadata": {
        "id": "gfPMWuotmDm4",
        "colab_type": "code",
        "colab": {}
      },
      "source": [
        "# Load the MatrixSimilarity\n",
        "from gensim.similarities import MatrixSimilarity\n",
        "\n",
        "# Create the document-topic-matrix\n",
        "document_topic_matrix_train = MatrixSimilarity(train_corpus_lsi)\n",
        "\n",
        "# this will create you a document - document similarity matrix (you could import it as a network...)\n",
        "document_topic_matrix_train_ix = document_topic_matrix_train.index\n",
        "\n",
        "# Same for test-set\n",
        "document_topic_matrix_test = MatrixSimilarity(test_corpus_lsi)\n",
        "document_topic_matrix_test_ix = document_topic_matrix_test.index"
      ],
      "execution_count": 0,
      "outputs": []
    },
    {
      "cell_type": "code",
      "metadata": {
        "id": "MbwSZxElnO9v",
        "colab_type": "code",
        "colab": {
          "base_uri": "https://localhost:8080/",
          "height": 72
        },
        "outputId": "8cbeae51-49bc-4b67-fc6d-effcf35f9e61"
      },
      "source": [
        "doc = \"I use both iPhone & Samsung. If Apple doesn't give info to authorities on the terrorists I'll only be using Samsung until they give info\"\n",
        "\n",
        "vec_bow = dictionary.doc2bow(doc.lower().split()) # convert to bag of words\n",
        "vec_tfidf = tfidf[vec_bow] # convert to tfidf\n",
        "vec_lsi = model_lsi[vec_tfidf]  # convert the query to LSI space\n",
        "\n",
        "print(len(vec_lsi))\n",
        "print(vec_lsi[:10])"
      ],
      "execution_count": 82,
      "outputs": [
        {
          "output_type": "stream",
          "text": [
            "300\n",
            "[(0, 0.09572592901988965), (1, -0.028168842805818675), (2, 0.0172924581064519), (3, -0.014946780638606903), (4, 0.0020966095148325144), (5, -0.002499010009224768), (6, -0.01757893536566757), (7, -0.002337395799302267), (8, 0.01949380077495537), (9, 0.011204962840145626)]\n"
          ],
          "name": "stdout"
        }
      ]
    },
    {
      "cell_type": "code",
      "metadata": {
        "id": "bM8nKUyYnfQE",
        "colab_type": "code",
        "colab": {
          "base_uri": "https://localhost:8080/",
          "height": 211
        },
        "outputId": "4b097686-88a0-4a74-ee3e-dffa7508badb"
      },
      "source": [
        "sims = document_topic_matrix_train[vec_lsi]\n",
        "\n",
        "sims = sorted(enumerate(sims), key=lambda item: -item[1])\n",
        "for i, s in sims[:10]: #ten most similar texts\n",
        "    print(s, train_df[i])"
      ],
      "execution_count": 83,
      "outputs": [
        {
          "output_type": "stream",
          "text": [
            "0.49509013 “79% of these decisions have been overturned in the 9th Circuit.” @FoxNews A terrible, costly and dangerous disgrace. It has become a dumping ground for certain lawyers looking for easy wins and delays. Much talk over dividing up the 9th Circuit into 2 or 3 Circuits. Too big!\n",
            "0.4584 Democrat Rep. Tlaib is being slammed for her horrible and highly insensitive statement on the Holocaust. She obviously has tremendous hatred of Israel and the Jewish people. Can you imagine what would happen if I ever said what she said, and says?\n",
            "0.45589748 Going to play golf right now with @AbeShinzo. Japan loves the game. Tremendous fans of @JackNicklaus, @TigerWoods, and @PhilMickelson — I said what about @GaryPlayer, they said we love Gary too!\n",
            "0.4546603 Thank you to Chairman Kim Jong Un for keeping your faith in our great U.S. When I took office, your airplane, probably the biggest in the world, was just coming into a landing pattern in Japan. A few months later, because of your patience and understanding, I will probably be cutting back on some of the biggest and most dangerous deals....\n",
            "0.44172853 I meet and talk to “foreign governments” every day. I just met with the Queen of England (U.K.), the Prince of Wales, the P.M. of the United Kingdom, the P.M. of Ireland, the President of France and the President of Poland. We talked about “Everything!” Should I immediately....\n",
            "0.43892196 “This could be the most pro-growth president’s ever team’script. It’s fantastic.”  Charles Payne  @NBCNewsdotcom\n",
            "0.4337307 https://www.pscp.tv/w/boKyTTFvTlFsTFJub1dwUXd8MU1ZR05xbmp6a25LdwHUzEONbHjskshpqSS7RpTh-_8Rw9XQUvMcy4o8DBZ3?t=19m40s …\n",
            "0.43331218 Will be on @foxandfriends. Enjoy!\n",
            "0.42848778 Each year, America pauses to remember its fallen astronaut heroes and the great accomplishments for which they strived. @FLOTUS Melania and I mourn their passing and take to heart the lessons of their lives and the greater human potential to which they continue to inspire.https://twitter.com/NASA/status/1093650615912316928 …\n",
            "0.40841573 In addition to our great economic impact, the United States has given great aid to hundreds of thousands of people in the countries that we are helping all over the world. Many of these countries just got a lot more powerful, which gives us a great advantage over other countries. Many nations will now have even greater leverage as we work to stop the Iranian threat. Thank you for your help!\n"
          ],
          "name": "stdout"
        }
      ]
    },
    {
      "cell_type": "code",
      "metadata": {
        "id": "QAZQU-sxpibX",
        "colab_type": "code",
        "colab": {}
      },
      "source": [
        ""
      ],
      "execution_count": 0,
      "outputs": []
    }
  ]
}